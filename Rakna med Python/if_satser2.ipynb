{
 "metadata": {
  "language_info": {
   "codemirror_mode": {
    "name": "ipython",
    "version": 3
   },
   "file_extension": ".py",
   "mimetype": "text/x-python",
   "name": "python",
   "nbconvert_exporter": "python",
   "pygments_lexer": "ipython3",
   "version": "3.8.3-final"
  },
  "orig_nbformat": 2,
  "kernelspec": {
   "name": "python_defaultSpec_1600674923371",
   "display_name": "Python 3.8.3 64-bit ('base': conda)"
  }
 },
 "nbformat": 4,
 "nbformat_minor": 2,
 "cells": [
  {
   "source": [
    "# Provbetyg\n",
    "\n",
    "x - antal poäng\n",
    "\n",
    "A: $x > 60$\n",
    "\n",
    "B: 56-60\n",
    "\n",
    "C: 51-55\n",
    "\n",
    "D: 41-50\n",
    "\n",
    "E: 31-40\n",
    "\n",
    "F: $x \\le 30$\n",
    "\n",
    "Slumpa fram en poäng mellan 0 och 65 och ge ett betyg till eleven"
   ],
   "cell_type": "markdown",
   "metadata": {}
  },
  {
   "cell_type": "code",
   "execution_count": 46,
   "metadata": {
    "tags": []
   },
   "outputs": [
    {
     "output_type": "stream",
     "name": "stdout",
     "text": "Eleven Kokchun fick 5 poäng, vilket ger betyget F\nEleven Henrik fick 28 poäng, vilket ger betyget F\nEleven Tommy fick 19 poäng, vilket ger betyget F\nEleven Zsofia fick 61 poäng, vilket ger betyget A\nutanför for-sats\n"
    }
   ],
   "source": [
    "import random as rnd\n",
    "\n",
    "for elev in klass:\n",
    "    # slumpar fram ett heltal mellan 0 och 65\n",
    "    poang = rnd.randint(0,65)\n",
    "\n",
    "    # lista av elever\n",
    "    klass = [\"Kokchun\", \"Henrik\", \"Tommy\", \"Zsofia\"]\n",
    "\n",
    "    if (poang > 60):\n",
    "        betyg = \"A\"\n",
    "    elif (poang >= 56):\n",
    "        betyg = \"B\"\n",
    "    elif (poang >= 51):\n",
    "        betyg = \"C\"\n",
    "    elif (poang >= 41):\n",
    "        betyg = \"D\"\n",
    "    elif (poang >= 31):\n",
    "        betyg = \"E\"\n",
    "    else:\n",
    "        betyg = \"F\"    \n",
    "\n",
    "    # slumpvis väljer ett element i listan klass\n",
    "    #elev = rnd.choice(klass)\n",
    "\n",
    "    print(f\"Eleven {elev} fick {poang} poäng, vilket ger betyget {betyg}\")\n",
    "\n",
    "    # Frivilligt: utöka det här programmet mha en for-sats och skriv ut alla elever, deras poäng och betyg\n",
    "print(\"utanför for-sats\")"
   ]
  }
 ]
}