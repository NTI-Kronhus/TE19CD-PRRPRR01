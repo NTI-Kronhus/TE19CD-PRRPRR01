{
 "metadata": {
  "language_info": {
   "codemirror_mode": {
    "name": "ipython",
    "version": 3
   },
   "file_extension": ".py",
   "mimetype": "text/x-python",
   "name": "python",
   "nbconvert_exporter": "python",
   "pygments_lexer": "ipython3",
   "version": "3.8.3-final"
  },
  "orig_nbformat": 2,
  "kernelspec": {
   "name": "python3",
   "display_name": "Python 3"
  }
 },
 "nbformat": 4,
 "nbformat_minor": 2,
 "cells": [
  {
   "source": [
    "# Provbetyg\n",
    "\n",
    "x - antal poäng\n",
    "\n",
    "A: $x > 60$\n",
    "\n",
    "B: 56-60\n",
    "\n",
    "C: 51-55\n",
    "\n",
    "D: 41-50\n",
    "\n",
    "E: 31-40\n",
    "\n",
    "F: $x \\le 30$\n",
    "\n",
    "Slumpa fram en poäng mellan 0 och 65 och ge ett betyg till eleven\n"
   ],
   "cell_type": "markdown",
   "metadata": {}
  },
  {
   "cell_type": "code",
   "execution_count": 9,
   "metadata": {
    "tags": []
   },
   "outputs": [
    {
     "output_type": "stream",
     "name": "stdout",
     "text": "Eleven Tatiana fick 40 poäng, vilket ger betyg E\n"
    }
   ],
   "source": [
    "import random as rnd\n",
    "\n",
    "# skapat en lista som håller 6 strängar\n",
    "klass = [\"Kokchun\", \"Tommy\", \"Henrik\", \"Zsofia\", \"Simon\", \"Tatiana\"]\n",
    "\n",
    "# slumpar ett heltal mellan 0 och 65\n",
    "poang = rnd.randint(0,65)\n",
    "\n",
    "elev = rnd.choice(klass)\n",
    "\n",
    "# förslag 2 - nedifrån och upp\n",
    "if poang <= 30:\n",
    "    betyg = \"F\"\n",
    "elif poang <= 40:\n",
    "    betyg = \"E\"\n",
    "elif poang <= 50:\n",
    "    betyg = \"D\"\n",
    "elif poang <= 55:\n",
    "    betyg = \"C\"\n",
    "elif poang <= 60:\n",
    "    betyg = \"B\"\n",
    "else:\n",
    "    betyg = \"A\"\n",
    "\n",
    "#elev = rnd.choice(klass)\n",
    "\n",
    "\n",
    "print(f\"Eleven {elev} fick {poang} poäng, vilket ger betyg {betyg}\")\n",
    "\n",
    "# utökning av programmet: gör en for-sats som loopar igenom klassen och ta bort elever som vi använt"
   ]
  },
  {
   "cell_type": "code",
   "execution_count": 1,
   "metadata": {
    "tags": []
   },
   "outputs": [
    {
     "output_type": "stream",
     "name": "stdout",
     "text": "hej\n"
    }
   ],
   "source": [
    "# förslag 1 - uppifrån och ned \n",
    "if poang > 60:\n",
    "    betyg = \"A\"\n",
    "elif poang <= 60 and poang >= 56:\n",
    "    betyg =\"B\"\n",
    "elif poang <= 55 and poang >= 51:\n",
    "    betyg =\"C\"\n",
    "elif poang <= 50 and poang >= 41:\n",
    "    betyg =\"D\"\n",
    "elif poang <= 40 and poang >= 31:\n",
    "    betyg =\"E\"\n",
    "else:\n",
    "    betyg = \"F\""
   ]
  }
 ]
}