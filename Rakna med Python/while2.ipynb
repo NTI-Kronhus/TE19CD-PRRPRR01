{
 "metadata": {
  "language_info": {
   "codemirror_mode": {
    "name": "ipython",
    "version": 3
   },
   "file_extension": ".py",
   "mimetype": "text/x-python",
   "name": "python",
   "nbconvert_exporter": "python",
   "pygments_lexer": "ipython3",
   "version": "3.8.3-final"
  },
  "orig_nbformat": 2,
  "kernelspec": {
   "name": "Python 3.8.3 64-bit ('base': conda)",
   "display_name": "Python 3.8.3 64-bit ('base': conda)",
   "metadata": {
    "interpreter": {
     "hash": "32d3f5a1c2b5567bec393df6ff018e004e86126481f45fcedbe3d204fc8e1d8c"
    }
   }
  }
 },
 "nbformat": 4,
 "nbformat_minor": 2,
 "cells": [
  {
   "source": [
    "# Mjölkuppgift - while\n",
    "\n",
    "1L mjölk 1 500 000 bakterier i rumstemp. \n",
    "\n",
    "Bakterier ökar med 50%/timme i rumstemp. \n",
    "\n",
    "Mjölk surnar när vi har mer än 10 000 000 st\n",
    "\n",
    "Hur många timmar tar det tills mjölken surnar?"
   ],
   "cell_type": "markdown",
   "metadata": {}
  },
  {
   "cell_type": "code",
   "execution_count": 3,
   "metadata": {},
   "outputs": [
    {
     "output_type": "stream",
     "name": "stdout",
     "text": [
      "Det tar 5h i rumstemperatur för att mjölken ska surna\n"
     ]
    }
   ],
   "source": [
    "bakterier = 1.5e6 # 1.5*10**6\n",
    "surt = 1e7\n",
    "faktor = 1.5\n",
    "timmar = 0\n",
    "\n",
    "while bakterier < surt:\n",
    "    bakterier = faktor*bakterier\n",
    "    timmar += 1\n",
    "\n",
    "print(f\"Det tar {timmar}h i rumstemperatur för att mjölken ska surna\")\n",
    "\n"
   ]
  }
 ]
}