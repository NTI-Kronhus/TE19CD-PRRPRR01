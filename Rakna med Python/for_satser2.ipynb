{
 "metadata": {
  "language_info": {
   "codemirror_mode": {
    "name": "ipython",
    "version": 3
   },
   "file_extension": ".py",
   "mimetype": "text/x-python",
   "name": "python",
   "nbconvert_exporter": "python",
   "pygments_lexer": "ipython3",
   "version": "3.8.3-final"
  },
  "orig_nbformat": 2,
  "kernelspec": {
   "name": "Python 3.8.3 64-bit ('base': conda)",
   "display_name": "Python 3.8.3 64-bit ('base': conda)",
   "metadata": {
    "interpreter": {
     "hash": "32d3f5a1c2b5567bec393df6ff018e004e86126481f45fcedbe3d204fc8e1d8c"
    }
   }
  }
 },
 "nbformat": 4,
 "nbformat_minor": 2,
 "cells": [
  {
   "source": [
    "# Angående if-sats inlämningen\n",
    "if tal1 > tal2 and tal3 and tal4: (fungerar ej)\n",
    "\n",
    "if tal1 > tal2 and tal1 > tal3 ... : (fungerar)\n",
    "\n",
    "vad händer om talet är både delbart med 2 och 5\n",
    "\n",
    "A = pi*r*r \n",
    "\n",
    "A = pi*r**2  (upphöjt till 2)\n",
    "\n",
    "Fundera på skillnad mellan många if-satser efter varandra\n",
    "jämfört med if-elif-elif-...-else\n",
    "\n",
    "printning: avrundar sina flyttal: \n",
    "pi = 3.1415\n",
    "print(f\"{pi:.1f}\") få finare utskrift\n",
    "\n"
   ],
   "cell_type": "markdown",
   "metadata": {}
  },
  {
   "source": [
    "# Nästlad for-sats\n",
    "\n",
    "for-sats i en for-sats"
   ],
   "cell_type": "markdown",
   "metadata": {}
  },
  {
   "cell_type": "code",
   "execution_count": 14,
   "metadata": {
    "tags": []
   },
   "outputs": [
    {
     "output_type": "stream",
     "name": "stdout",
     "text": "# # # # # # # # 0\n# # # # # # # # 1\n# # # # # # # # 2\n"
    }
   ],
   "source": [
    "# spelplan\n",
    "for j in range(3):\n",
    "    for i in range(8):\n",
    "        print(\"#\", end=\" \")\n",
    "    print(j) # radbrytning\n",
    "\n",
    "\n"
   ]
  },
  {
   "cell_type": "code",
   "execution_count": 21,
   "metadata": {
    "tags": []
   },
   "outputs": [
    {
     "output_type": "stream",
     "name": "stdout",
     "text": "10\n9\n8\n7\n6\n5\n4\n3\n2\n1\n0\n"
    }
   ],
   "source": [
    "for i in range(11):\n",
    "    print(10-i)"
   ]
  },
  {
   "cell_type": "code",
   "execution_count": 23,
   "metadata": {
    "tags": []
   },
   "outputs": [
    {
     "output_type": "stream",
     "name": "stdout",
     "text": "0\n1\n3\n6\n10\n"
    }
   ],
   "source": [
    "s = 0\n",
    "\n",
    "for i in range(5):\n",
    "    #s += i\n",
    "    s = s + i\n",
    "    print(s)\n",
    "\n",
    "\n"
   ]
  }
 ]
}