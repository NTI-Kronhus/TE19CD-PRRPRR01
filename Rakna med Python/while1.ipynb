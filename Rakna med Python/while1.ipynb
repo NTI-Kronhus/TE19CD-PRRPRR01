{
 "metadata": {
  "language_info": {
   "codemirror_mode": {
    "name": "ipython",
    "version": 3
   },
   "file_extension": ".py",
   "mimetype": "text/x-python",
   "name": "python",
   "nbconvert_exporter": "python",
   "pygments_lexer": "ipython3",
   "version": "3.8.3-final"
  },
  "orig_nbformat": 2,
  "kernelspec": {
   "name": "Python 3.8.3 64-bit ('base': conda)",
   "display_name": "Python 3.8.3 64-bit ('base': conda)",
   "metadata": {
    "interpreter": {
     "hash": "32d3f5a1c2b5567bec393df6ff018e004e86126481f45fcedbe3d204fc8e1d8c"
    }
   }
  }
 },
 "nbformat": 4,
 "nbformat_minor": 2,
 "cells": [
  {
   "source": [
    "# While-sats\n",
    "\n",
    "Kod upprepas så länge villkoret gäller\n",
    "\n",
    "for-sats: kod upprepas ett bestämt antal gånger"
   ],
   "cell_type": "markdown",
   "metadata": {}
  },
  {
   "cell_type": "code",
   "execution_count": 6,
   "metadata": {
    "tags": []
   },
   "outputs": [
    {
     "output_type": "stream",
     "name": "stdout",
     "text": "Jämna tal från 0-10\n0 2 4 6 8 10 "
    }
   ],
   "source": [
    "print(\"Jämna tal från 0-10\")\n",
    "n = 0\n",
    "while n <= 10:\n",
    "    print(f\"{n}\", end =\" \")\n",
    "    n += 2\n",
    "\n"
   ]
  },
  {
   "source": [
    "# Miljöutsläpp\n",
    "\n",
    "Ett miljöutsläpp halverar fågelpopulation i en ö varje år.\n",
    "\n",
    "Fågelpopulationen började på 8000st\n",
    "\n",
    "Hur många år tar det tills populationen blir mindre än en tiondel?"
   ],
   "cell_type": "markdown",
   "metadata": {}
  },
  {
   "cell_type": "code",
   "execution_count": 1,
   "metadata": {
    "tags": []
   },
   "outputs": [
    {
     "output_type": "stream",
     "name": "stdout",
     "text": "År 0: antal fåglar: 8000st\nÅr 1: antal fåglar: 4000st\nÅr 2: antal fåglar: 2000st\nÅr 3: antal fåglar: 1000st\nÅr 4: antal fåglar: 500st\nDet tar 4 år tills fågelpopulationen understiger en tiondel\n"
    }
   ],
   "source": [
    "fåglar = 8000\n",
    "antal_år = 0\n",
    "\n",
    "print(f\"År {antal_år}: antal fåglar: {fåglar}st\")\n",
    "\n",
    "while fåglar >= 800:\n",
    "    fåglar /= 2\n",
    "    antal_år += 1\n",
    "    print(f\"År {antal_år}: antal fåglar: {fåglar:.0f}st\")\n",
    "\n",
    "print(f\"Det tar {antal_år} år tills fågelpopulationen understiger en tiondel\")\n",
    "\n"
   ]
  },
  {
   "cell_type": "code",
   "execution_count": 7,
   "metadata": {
    "tags": []
   },
   "outputs": [
    {
     "output_type": "execute_result",
     "data": {
      "text/plain": "&#39;\\n    multiline kommentar\\n\\n    x = 5\\n    print(&quot;hej&quot;)\\n&#39;"
     },
     "metadata": {},
     "execution_count": 7
    }
   ],
   "source": [
    "'''\n",
    "    multiline kommentar\n",
    "\n",
    "    x = 5\n",
    "    print(\"hej\")\n",
    "'''\n",
    "\n"
   ]
  }
 ]
}