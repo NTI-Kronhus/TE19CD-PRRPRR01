{
 "metadata": {
  "language_info": {
   "codemirror_mode": {
    "name": "ipython",
    "version": 3
   },
   "file_extension": ".py",
   "mimetype": "text/x-python",
   "name": "python",
   "nbconvert_exporter": "python",
   "pygments_lexer": "ipython3",
   "version": "3.8.3-final"
  },
  "orig_nbformat": 2,
  "kernelspec": {
   "name": "python3",
   "display_name": "Python 3"
  }
 },
 "nbformat": 4,
 "nbformat_minor": 2,
 "cells": [
  {
   "cell_type": "code",
   "execution_count": 1,
   "metadata": {
    "tags": []
   },
   "outputs": [
    {
     "output_type": "stream",
     "name": "stdout",
     "text": "hej\n"
    }
   ],
   "source": [
    "print(\"hej\")"
   ]
  },
  {
   "cell_type": "markdown",
   "metadata": {},
   "source": [
    "# Variabler"
   ]
  },
  {
   "cell_type": "code",
   "execution_count": 3,
   "metadata": {
    "tags": []
   },
   "outputs": [
    {
     "output_type": "stream",
     "name": "stdout",
     "text": "hej Kokchun\n"
    }
   ],
   "source": [
    "name = \"Kokchun\"\n",
    "\n",
    "print(f\"hej {name}\")"
   ]
  },
  {
   "cell_type": "code",
   "execution_count": 2,
   "metadata": {
    "tags": []
   },
   "outputs": [
    {
     "output_type": "error",
     "ename": "IndentationError",
     "evalue": "unexpected indent (<ipython-input-2-953d892bea00>, line 8)",
     "traceback": [
      "\u001b[1;36m  File \u001b[1;32m\"<ipython-input-2-953d892bea00>\"\u001b[1;36m, line \u001b[1;32m8\u001b[0m\n\u001b[1;33m    print(\"hej\")\u001b[0m\n\u001b[1;37m    ^\u001b[0m\n\u001b[1;31mIndentationError\u001b[0m\u001b[1;31m:\u001b[0m unexpected indent\n"
     ]
    }
   ],
   "source": [
    "x = float(input(\"Skriv ett tal\"))\n",
    "\n",
    "if x > 0: print(\"Talet är positvt\")\n",
    "\n",
    "if x < -0: print(\"Talet är negativt\")\n",
    "\n",
    "else: print(\"Talet är noll\")"
   ]
  },
  {
   "cell_type": "code",
   "execution_count": 16,
   "metadata": {
    "tags": []
   },
   "outputs": [
    {
     "output_type": "stream",
     "name": "stdout",
     "text": "Vinkeln är trubbig\n"
    }
   ],
   "source": [
    "\n",
    "vinkel = float(input(\"Ange en vinkel i en crikel \"))\n",
    "\n",
    "if vinkel == 90:\n",
    "    print(\"Vinkeln är räyvinklad\")\n",
    "elif vinkel >= 0 and vinkel < 90:\n",
    "    print(\"Vinkeln är spetsig\")\n",
    "elif vinkel >= 90 and vinkel < 180:\n",
    "    print(\"Vinkeln är trubbig\")\n",
    "elif vinkel == 180:\n",
    "    print(\"Vinkeln är rak\")\n",
    "elif vinkel > 180 and vinkel < 360:\n",
    "    print(\"Vinkeln är konvex\")\n",
    "else:\n",
    "    print(\"Det är en hel vinkel\")"
   ]
  },
  {
   "cell_type": "code",
   "execution_count": 21,
   "metadata": {
    "tags": []
   },
   "outputs": [
    {
     "output_type": "stream",
     "name": "stdout",
     "text": "Triangeln är rätvinklig\n"
    }
   ],
   "source": [
    "vinkel1=float(input(\"Ange en vinkel\"))\n",
    "vinkel2=float(input(\"Ange en vinkel\"))\n",
    "vinkel3=float(input(\"Ange en vinkel\"))\n",
    "\n",
    "sum=vinkel3 + vinkel1 + vinkel2\n",
    "\n",
    "#den första if är fel och vill inte funka \n",
    "if vinkel1 or vinkel2 or vinkel3 == 90:\n",
    "    print(\"Triangeln är rätvinklig\" )\n",
    "elif sum>180:\n",
    "    print(\"För höga vinklar\") \n",
    "elif sum<180:\n",
    "    print(\"För låga vinklar\") \n",
    "else:\n",
    "    print(\"Triangeln är inte rätvinklig \")"
   ]
  },
  {
   "cell_type": "code",
   "execution_count": 14,
   "metadata": {},
   "outputs": [
    {
     "output_type": "execute_result",
     "data": {
      "text/plain": "6889"
     },
     "metadata": {},
     "execution_count": 14
    }
   ],
   "source": [
    "vinkel**2"
   ]
  },
  {
   "cell_type": "code",
   "execution_count": 23,
   "metadata": {},
   "outputs": [
    {
     "output_type": "execute_result",
     "data": {
      "text/plain": "10"
     },
     "metadata": {},
     "execution_count": 23
    }
   ],
   "source": [
    "8^2"
   ]
  }
 ]
}