{
 "metadata": {
  "language_info": {
   "codemirror_mode": {
    "name": "ipython",
    "version": 3
   },
   "file_extension": ".py",
   "mimetype": "text/x-python",
   "name": "python",
   "nbconvert_exporter": "python",
   "pygments_lexer": "ipython3",
   "version": "3.8.3-final"
  },
  "orig_nbformat": 2,
  "kernelspec": {
   "name": "python3",
   "display_name": "Python 3.8.3 64-bit",
   "metadata": {
    "interpreter": {
     "hash": "082e9a3bcad0a290d0001e938aa60b99250c6c2ef33a923c00b70f9826caf4b7"
    }
   }
  }
 },
 "nbformat": 4,
 "nbformat_minor": 2,
 "cells": [
  {
   "source": [
    "# Felhantering\n",
    "- syntaxfel - språkregler följs inte hittas när skriver programmet/under exekvering\n",
    "- exekveringsfel - felet upptäcks under körningen, vilket kan krascha programmet\n",
    "- logiskt fel - \"Felaktig lösning på problemet\", kan ge felaktiga resultat. Svåra att upptäcka"
   ],
   "cell_type": "markdown",
   "metadata": {}
  },
  {
   "cell_type": "code",
   "execution_count": 17,
   "metadata": {},
   "outputs": [
    {
     "output_type": "stream",
     "name": "stdout",
     "text": [
      "Ålder ska vara ett tal och inte sträng\n",
      "Din ålder ska vara mellan 0 och 124\n",
      "Du är vuxen\n"
     ]
    }
   ],
   "source": [
    "while True:\n",
    "    try:\n",
    "        ålder = float(input(\"Hur gammal är du?\"))\n",
    "        # detta löser ett logiskt fel - genom generera felsignal\n",
    "        assert ålder >= 0 and ålder < 125, \"Din ålder ska vara mellan 0 och 124\"\n",
    "        break #hoppar ut från while-satsen\n",
    "    except AssertionError as msg:\n",
    "        print(msg)\n",
    "    except:\n",
    "        print(\"Ålder ska vara ett tal och inte sträng\")\n",
    "\n",
    "\n",
    "if ålder >= 18:\n",
    "    print(\"Du är vuxen\") \n",
    "else:\n",
    "    print(\"Du är barn\")\n",
    "\n"
   ]
  },
  {
   "cell_type": "code",
   "execution_count": 13,
   "metadata": {},
   "outputs": [
    {
     "output_type": "stream",
     "name": "stdout",
     "text": [
      "Felaktiga tal\n[3.0, 4.0, 5.0, 1.0]\n"
     ]
    }
   ],
   "source": [
    "# låt användaren mata in ett antal tal \n",
    "# skriv ut största talet\n",
    "# skriv ut minsta talet \n",
    "\n",
    "tal_str = input(\"Skriv in ett antal tal med mellanrum emellan: \")\n",
    "lista_str = tal_str.split() # split ger oss en lista, splittar där vi har mellanslag\n",
    "\n",
    "# här kan man lägga in while-sats för att fråga användaren igen\n",
    "try:\n",
    "    # lista av flyttal\n",
    "    tal_lista = [float(x) for x in lista_str]\n",
    "    # har man ex ange 3 tal --> använda assert för att säkerställa att man får tre tal\n",
    "    störst = max(tal_lista)\n",
    "    minst = min(tal_lista)\n",
    "    print(f\"Största talet är {störst}, minsta talet är {minst}\")\n",
    "except:\n",
    "    print(\"Felaktiga tal\")\n",
    "\n",
    "\n",
    "print(tal_lista)\n",
    "\n"
   ]
  },
  {
   "cell_type": "code",
   "execution_count": null,
   "metadata": {},
   "outputs": [],
   "source": []
  }
 ]
}