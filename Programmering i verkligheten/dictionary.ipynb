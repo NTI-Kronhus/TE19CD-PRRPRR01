{
 "metadata": {
  "language_info": {
   "codemirror_mode": {
    "name": "ipython",
    "version": 3
   },
   "file_extension": ".py",
   "mimetype": "text/x-python",
   "name": "python",
   "nbconvert_exporter": "python",
   "pygments_lexer": "ipython3",
   "version": "3.8.3-final"
  },
  "orig_nbformat": 2,
  "kernelspec": {
   "name": "python3",
   "display_name": "Python 3.8.3 64-bit",
   "metadata": {
    "interpreter": {
     "hash": "aee8b7b246df8f9039afb4144a1f6fd8d2ca17a180786b69acc140d282b71a49"
    }
   }
  }
 },
 "nbformat": 4,
 "nbformat_minor": 2,
 "cells": [
  {
   "source": [
    "# Dictionary \n",
    "- metafor: en ordlista - söker på ett ord och får fram en förklaring\n",
    "- key:value par"
   ],
   "cell_type": "markdown",
   "metadata": {}
  },
  {
   "cell_type": "code",
   "execution_count": 6,
   "metadata": {},
   "outputs": [
    {
     "output_type": "stream",
     "name": "stdout",
     "text": [
      "{'namn': 'Kokchun', 'ålder': 29, 'yrke': 'lärare', 'arbetsplats': 'NTI'}\nPersonens namn är Kokchun\nHan är 29 år gammal\nKokchun jobbar som lärare på skolan NTI\n"
     ]
    }
   ],
   "source": [
    "# syntax med dict()\n",
    "person = dict(\n",
    "    namn = \"Kokchun\",\n",
    "    ålder = 29,\n",
    "    yrke = \"lärare\",\n",
    "    arbetsplats = \"NTI\"\n",
    ")\n",
    "\n",
    "print(person)\n",
    "\n",
    "# kommer åt värdena genom att använda sig av person['key']\n",
    "print(f\"Personens namn är {person['namn']}\")\n",
    "print(f\"Han är {person['ålder']} år gammal\")\n",
    "print(f\"{person['namn']} jobbar som {person['yrke']} på skolan {person['arbetsplats']}\")"
   ]
  },
  {
   "cell_type": "code",
   "execution_count": 20,
   "metadata": {},
   "outputs": [
    {
     "output_type": "stream",
     "name": "stdout",
     "text": [
      "Orden vi ska lära oss är: \ntilldela, datastruktur, sträng, dictionary, \n\nGlosa \t\t Betydelse\ntilldela  \t ge ett värde till en variabel\ndatastruktur  \t struktuering av data\nsträng  \t sekvens av tecken\ndictionary  \t datastruktur för att spara data i key:value par\n"
     ]
    }
   ],
   "source": [
    "# syntax med måsvingar {}\n",
    "glosor = {\n",
    "    \"tilldela\":\"ge ett värde till en variabel\",\n",
    "    \"datastruktur\":\"struktuering av data\",\n",
    "    \"sträng\": \"sekvens av tecken\"\n",
    "}\n",
    "# lägga till element i dictionary\n",
    "glosor[\"dictionary\"] = \"datastruktur för att spara data i key:value par\"\n",
    "\n",
    "\n",
    "print(\"Orden vi ska lära oss är: \")\n",
    "# itererar över nycklarna i dictionary\n",
    "for key in glosor:\n",
    "    print(key, end =\", \")\n",
    "\n",
    "print(\"\\n\\nGlosa \\t\\t Betydelse\")\n",
    "# itererar över nyckel, värde i dictionary\n",
    "for key, value in glosor.items():\n",
    "    print(f\"{key}  \\t {value}\") \n",
    "\n",
    "\n"
   ]
  },
  {
   "cell_type": "code",
   "execution_count": 3,
   "metadata": {},
   "outputs": [
    {
     "output_type": "stream",
     "name": "stdout",
     "text": [
      "simma bak\n"
     ]
    }
   ],
   "source": [
    "husdjur = {\n",
    "    \"djur\": \"fisk\",\n",
    "    \"ålder\": 5,\n",
    "    \"ätbar\": False,\n",
    "    \"actions\": [\"simma fram\", \"simma bak\", \"simma höger\"]\n",
    "}\n",
    "\n",
    "print(husdjur[\"actions\"][1])"
   ]
  },
  {
   "cell_type": "code",
   "execution_count": 6,
   "metadata": {},
   "outputs": [
    {
     "output_type": "stream",
     "name": "stdout",
     "text": [
      "Mitt husdjur är katt, den är 5 år gammal\n"
     ]
    }
   ],
   "source": [
    "husdjur = \"katt\"\n",
    "ålder = 5\n",
    "\n",
    "print(f\"Mitt husdjur är {husdjur}, den är {ålder} år gammal\")"
   ]
  },
  {
   "cell_type": "code",
   "execution_count": 2,
   "metadata": {},
   "outputs": [
    {
     "output_type": "stream",
     "name": "stdout",
     "text": [
      "{'0': 6, '1': 5, '2': 1, '3': 3, '4': 1, '5': 7, '6': 10, '7': 4, '8': 9, '9': 5}\n"
     ]
    }
   ],
   "source": [
    "# for-sats för att generera key-value par\n",
    "import random as rnd \n",
    "\n",
    "siffror = {}\n",
    "\n",
    "\n",
    "for i in range(10):\n",
    "    slumptal = rnd.randint(1,10)\n",
    "    siffror[f\"{i}\"] = slumptal\n",
    "\n",
    "\n",
    "print(siffror)\n",
    "\n",
    "\n"
   ]
  },
  {
   "cell_type": "code",
   "execution_count": null,
   "metadata": {},
   "outputs": [],
   "source": []
  }
 ]
}