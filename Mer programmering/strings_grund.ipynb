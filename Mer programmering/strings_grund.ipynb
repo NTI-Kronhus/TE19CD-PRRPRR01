{
 "metadata": {
  "language_info": {
   "codemirror_mode": {
    "name": "ipython",
    "version": 3
   },
   "file_extension": ".py",
   "mimetype": "text/x-python",
   "name": "python",
   "nbconvert_exporter": "python",
   "pygments_lexer": "ipython3",
   "version": "3.8.3-final"
  },
  "orig_nbformat": 2,
  "kernelspec": {
   "name": "python3",
   "display_name": "Python 3.8.3 64-bit",
   "metadata": {
    "interpreter": {
     "hash": "082e9a3bcad0a290d0001e938aa60b99250c6c2ef33a923c00b70f9826caf4b7"
    }
   }
  }
 },
 "nbformat": 4,
 "nbformat_minor": 2,
 "cells": [
  {
   "source": [
    "# Strängar i Python\n",
    "* indexeringsoperatorn []\n",
    "* skivoperatorn :\n",
    "* konkatenering\n",
    "* escape-sekvenser\n",
    "* strängmanipuleringsfunktioner"
   ],
   "cell_type": "markdown",
   "metadata": {}
  },
  {
   "source": [
    "## Konkatenering \n",
    "lägger ihop strängar"
   ],
   "cell_type": "markdown",
   "metadata": {}
  },
  {
   "cell_type": "code",
   "execution_count": 16,
   "metadata": {},
   "outputs": [
    {
     "output_type": "stream",
     "name": "stdout",
     "text": [
      "Namn: Kokchun Giang\nÅlder: 17\nTelefon: 112\n"
     ]
    }
   ],
   "source": [
    "förnamn = \"Kokchun\"\n",
    "efternamn = \"Giang\"\n",
    "\n",
    "# konkatenering (addera strängarna)\n",
    "namn = förnamn + \" \" + efternamn\n",
    "ålder = \"17\" \n",
    "address = \"Kronhusgatan 9\"\n",
    "telefon = 112\n",
    "\n",
    "personuppg = \"Namn: \" + namn + \"\\n\" + \"Ålder: \" + ålder + \"\\n\" +\"Telefon: \"+ str(telefon)\n",
    "\n",
    "print(personuppg)"
   ]
  },
  {
   "source": [
    "## Indexering\n"
   ],
   "cell_type": "markdown",
   "metadata": {}
  },
  {
   "cell_type": "code",
   "execution_count": 21,
   "metadata": {},
   "outputs": [
    {
     "output_type": "stream",
     "name": "stdout",
     "text": [
      "Alfabetet innehåller 29 bokstäver\nBokstav på index 0: a\nBokstav på index -2: ä\nBokstav på index 6: g\nAlfabetet baklänges: öäåzyxwvutsrqponmlkjihgfedcba\n"
     ]
    }
   ],
   "source": [
    "alfabet = \"abcdefghijklmnopqrstuvwxyzåäö\"\n",
    "\n",
    "# len() funktion - ger längden på ett lista   \n",
    "print(f\"Alfabetet innehåller {len(alfabet)} bokstäver\")\n",
    "\n",
    "# indexera\n",
    "print(f\"Bokstav på index 0: {alfabet[0]}\")\n",
    "print(f\"Bokstav på index -2: {alfabet[-2]}\")\n",
    "print(f\"Bokstav på index 6: {alfabet[6]}\")\n",
    "print(f\"Alfabetet baklänges: {alfabet[::-1]}\")\n"
   ]
  },
  {
   "source": [
    "## split()"
   ],
   "cell_type": "markdown",
   "metadata": {}
  },
  {
   "cell_type": "code",
   "execution_count": 27,
   "metadata": {},
   "outputs": [
    {
     "output_type": "stream",
     "name": "stdout",
     "text": [
      "['matematik', 'programmering', 'teknik', 'webbutveckling', 'fysik']\n['lasagne', 'korv,grönsaker', 'kebab', 'ris']\nJag älskar att äta lasagne\nJag älskar att äta korv,grönsaker\nJag älskar att äta kebab\nJag älskar att äta ris\n"
     ]
    }
   ],
   "source": [
    "favoritämnen = \"matematik programmering teknik webbutveckling fysik\"\n",
    "favoritmat = \"lasagne, korv, grönsaker, kebab, ris\"\n",
    "\n",
    "# split() separerar en sträng\n",
    "favoritämnen = favoritämnen.split()\n",
    "favoritmat = favoritmat.split(\", \")\n",
    "\n",
    "print(favoritämnen)\n",
    "print(favoritmat)\n",
    "\n",
    "for mat in favoritmat:\n",
    "    print(f\"Jag älskar att äta {mat}\")"
   ]
  },
  {
   "cell_type": "code",
   "execution_count": null,
   "metadata": {},
   "outputs": [],
   "source": []
  }
 ]
}